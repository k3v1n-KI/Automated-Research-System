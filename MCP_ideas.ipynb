{
 "cells": [
  {
   "cell_type": "code",
   "execution_count": 8,
   "id": "8b7477bc",
   "metadata": {},
   "outputs": [],
   "source": [
    "import os\n",
    "import json\n",
    "from uuid import uuid4\n",
    "from dotenv import find_dotenv, load_dotenv\n",
    "\n",
    "# OpenAI client (v1 interface)\n",
    "from openai import OpenAI\n",
    "\n",
    "# Firebase Admin SDK\n",
    "from firebase import initialize_firebase"
   ]
  },
  {
   "cell_type": "code",
   "execution_count": 9,
   "id": "dd7eb6b0",
   "metadata": {},
   "outputs": [],
   "source": [
    "dotenv_path  = find_dotenv()\n",
    "if dotenv_path:\n",
    "    load_dotenv(dotenv_path)\n",
    "# ——— Initialize OpenAI ———\n",
    "OPENAI_API_KEY = os.getenv(\"OPENAI_RANDY_KEY\")\n",
    "client = OpenAI(api_key=OPENAI_API_KEY)"
   ]
  },
  {
   "cell_type": "code",
   "execution_count": 10,
   "id": "a1dd6499",
   "metadata": {},
   "outputs": [],
   "source": [
    "db = initialize_firebase()"
   ]
  },
  {
   "cell_type": "code",
   "execution_count": 11,
   "id": "67fc3c23",
   "metadata": {},
   "outputs": [],
   "source": [
    "# ——— Planner Function ———\n",
    "def plan_research_task(task_description: str) -> dict:\n",
    "    \"\"\"\n",
    "    Calls GPT-4 to break a research goal into a JSON plan.\n",
    "    Returns a Python dict matching the plan schema.\n",
    "    \"\"\"\n",
    "    # instruct GPT to output machine-parseable JSON\n",
    "    system_prompt = (\n",
    "        \"You are an expert research assistant. \"\n",
    "        \"Output a JSON object with this schema:\\n\"\n",
    "        \"{\\n\"\n",
    "        '  \"goal\": string,\\n'\n",
    "        '  \"subtasks\": [\\n'\n",
    "        \"    {\\n\"\n",
    "        '      \"id\": string,        # unique\\n'\n",
    "        '      \"type\": string,      # e.g. \"search\", \"api\", \"validate\"\\n'\n",
    "        '      \"description\": string,\\n'\n",
    "        '      \"params\": object     # free-form parameters for executor\\n'\n",
    "        \"    }\\n\"\n",
    "        \"  ]\\n\"\n",
    "        \"}\\n\"\n",
    "        \"Do not wrap the JSON in markdown or any extra text.\"\n",
    "    )\n",
    "    user_prompt = f\"The research goal is: \\\"{task_description}\\\". What are the logical subtasks to execute it step by step?\"\n",
    "\n",
    "    resp = client.chat.completions.create(\n",
    "        model=\"gpt-4\",\n",
    "        messages=[\n",
    "            {\"role\": \"system\",  \"content\": system_prompt},\n",
    "            {\"role\": \"user\",    \"content\": user_prompt}\n",
    "        ],\n",
    "        temperature=0.2\n",
    "    )\n",
    "\n",
    "    # parse the JSON directly\n",
    "    plan_json = json.loads(resp.choices[0].message.content)\n",
    "    # ensure there's a unique plan ID\n",
    "    plan_json[\"plan_id\"] = str(uuid4())\n",
    "    return plan_json\n",
    "\n",
    "# ——— Firebase Storage Function ———\n",
    "def save_plan_to_firebase(plan: dict):\n",
    "    \"\"\"\n",
    "    Persists the plan dict into Firestore under collection 'research_plans'.\n",
    "    Document ID will be plan['plan_id'].\n",
    "    \"\"\"\n",
    "    plan_id = plan.get(\"plan_id\") or str(uuid4())\n",
    "    doc_ref = db.collection(\"research_plans\").document(plan_id)\n",
    "    doc_ref.set(plan)\n",
    "    print(f\"Saved plan {plan_id} to Firestore.\")\n",
    "\n"
   ]
  },
  {
   "cell_type": "code",
   "execution_count": 12,
   "id": "681c3540",
   "metadata": {},
   "outputs": [
    {
     "name": "stdout",
     "output_type": "stream",
     "text": [
      "Generated Plan:\n",
      "{\n",
      "  \"goal\": \"Find a list of hospitals in Ontario\",\n",
      "  \"subtasks\": [\n",
      "    {\n",
      "      \"id\": \"1\",\n",
      "      \"type\": \"search\",\n",
      "      \"description\": \"Search for a reliable source that provides a list of hospitals in Ontario\",\n",
      "      \"params\": {\n",
      "        \"keywords\": [\n",
      "          \"list of hospitals\",\n",
      "          \"Ontario\"\n",
      "        ]\n",
      "      }\n",
      "    },\n",
      "    {\n",
      "      \"id\": \"2\",\n",
      "      \"type\": \"validate\",\n",
      "      \"description\": \"Verify the reliability and credibility of the source\",\n",
      "      \"params\": {\n",
      "        \"source\": \"\"\n",
      "      }\n",
      "    },\n",
      "    {\n",
      "      \"id\": \"3\",\n",
      "      \"type\": \"api\",\n",
      "      \"description\": \"Extract the list of hospitals from the source\",\n",
      "      \"params\": {\n",
      "        \"url\": \"\",\n",
      "        \"data_format\": \"json\"\n",
      "      }\n",
      "    },\n",
      "    {\n",
      "      \"id\": \"4\",\n",
      "      \"type\": \"validate\",\n",
      "      \"description\": \"Check the completeness and accuracy of the extracted list\",\n",
      "      \"params\": {\n",
      "        \"data\": \"\"\n",
      "      }\n",
      "    }\n",
      "  ],\n",
      "  \"plan_id\": \"2cf01aec-8099-41f9-aa36-25a0a8035322\"\n",
      "}\n",
      "Saved plan 2cf01aec-8099-41f9-aa36-25a0a8035322 to Firestore.\n"
     ]
    }
   ],
   "source": [
    "task = \"Find a list of hospitals in Ontario\"\n",
    "plan = plan_research_task(task)\n",
    "print(\"Generated Plan:\")\n",
    "print(json.dumps(plan, indent=2))\n",
    "save_plan_to_firebase(plan)"
   ]
  }
 ],
 "metadata": {
  "kernelspec": {
   "display_name": "llm_automated_research",
   "language": "python",
   "name": "python3"
  },
  "language_info": {
   "codemirror_mode": {
    "name": "ipython",
    "version": 3
   },
   "file_extension": ".py",
   "mimetype": "text/x-python",
   "name": "python",
   "nbconvert_exporter": "python",
   "pygments_lexer": "ipython3",
   "version": "3.12.7"
  }
 },
 "nbformat": 4,
 "nbformat_minor": 5
}
