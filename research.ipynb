{
 "cells": [
  {
   "cell_type": "code",
   "execution_count": 2,
   "id": "7bfc1903",
   "metadata": {},
   "outputs": [],
   "source": [
    "import os\n",
    "from openai import OpenAI\n",
    "from serpapi import GoogleSearch\n",
    "from dotenv import find_dotenv, load_dotenv\n",
    "import requests"
   ]
  },
  {
   "cell_type": "code",
   "execution_count": 15,
   "id": "53feff40",
   "metadata": {},
   "outputs": [
    {
     "data": {
      "text/plain": [
       "True"
      ]
     },
     "execution_count": 15,
     "metadata": {},
     "output_type": "execute_result"
    }
   ],
   "source": [
    "env_path =  find_dotenv()\n",
    "load_dotenv(env_path)"
   ]
  },
  {
   "cell_type": "code",
   "execution_count": 16,
   "id": "6165f96b",
   "metadata": {},
   "outputs": [],
   "source": [
    "SERPAPI_KEY = os.getenv(\"SERPAPI_KEY\")\n",
    "OPENAI_API_KEY = os.getenv(\"OPENAI_RANDY_KEY\")\n",
    "GOOGLE_CX = os.getenv(\"GOOGLE_CX\")\n",
    "GOOGLE_API_KEY = os.getenv(\"GOOGLE_API_KEY\")"
   ]
  },
  {
   "cell_type": "code",
   "execution_count": 17,
   "id": "3dad8a27",
   "metadata": {},
   "outputs": [],
   "source": [
    "def get_search_results(query, api_key=SERPAPI_KEY):\n",
    "    params = {\n",
    "        \"engine\": \"google\",\n",
    "        \"q\": query,\n",
    "        \"api_key\": api_key,\n",
    "        \"num\": 10\n",
    "    }\n",
    "    search = GoogleSearch(params)\n",
    "    results = search.get_dict()\n",
    "    return [(r['title'], r['snippet'], r['link']) for r in results.get('organic_results', [])]"
   ]
  },
  {
   "cell_type": "code",
   "execution_count": 7,
   "id": "5988f64b",
   "metadata": {},
   "outputs": [],
   "source": [
    "query = \"list of hospitals in Ontario\""
   ]
  },
  {
   "cell_type": "code",
   "execution_count": null,
   "id": "e9c164b5",
   "metadata": {},
   "outputs": [],
   "source": [
    "results = get_search_results(query)"
   ]
  },
  {
   "cell_type": "code",
   "execution_count": 21,
   "id": "bc297aea",
   "metadata": {},
   "outputs": [
    {
     "data": {
      "text/plain": [
       "[('General hospital locations',\n",
       "  'General hospital locations ; Brampton. William Osler Health System ; Huntsville. Muskoka Algonquin Healthcare ; Markham. Oak Valley Health ; Midland.',\n",
       "  'http://www.ontario.ca/page/general-hospital-locations'),\n",
       " ('List of hospitals in Canada',\n",
       "  \"Ontario · Children's Hospital of Eastern Ontario (CHEO) · Montfort Hospital · National Defence Medical Centre · The Ottawa Hospital · Civic Hospital · General ...\",\n",
       "  'https://en.wikipedia.org/wiki/List_of_hospitals_in_Canada'),\n",
       " ('A Comprehensive List of Ontario Hospitals',\n",
       "  'A comprehensive list of the hospitals in Ontario province. Provided by the law offices of Greg Monforton & Partners.',\n",
       "  'https://www.gregmonforton.com/windsor/personal-injury-lawyer/hospitals-in-ontario.html'),\n",
       " ('Classification of hospitals',\n",
       "  'Hospitals are classified as general hospitals, convalescent hospitals, hospitals for chronic patients, active treatment teaching psychiatric hospitals.',\n",
       "  'https://www.ontario.ca/page/classification-hospitals'),\n",
       " ('Ontario Hospital Association OHA Members',\n",
       "  '\\u200b\\u200bAlexandra Hospital · Alexandra Marine & General Hospital · Almonte General Hospital · Anson General Hospital (MICs Group) · Arnprior Regional Health · Atikokan ...',\n",
       "  'https://www.oha.com/membership/oha-members'),\n",
       " ('LIST OF ONTARIO HOSPITALS & CLINICS',\n",
       "  'HOSPITALS. Below is a list of the major hospitals in Ontario. A complete list of Ontario hospitals can be found here: http://www.health.gov ...',\n",
       "  'https://ca.usembassy.gov/wp-content/uploads/sites/172/2024/08/Toronto-Doctors-List-2018.pdf'),\n",
       " ('hospitals in Ontario Canada',\n",
       "  'Hospitals in Ontario Canada: Alexandra Hospital, Alexandra Hospital, Alexandra Marine and General Hospital, Alexandra Marine and General Hospital.',\n",
       "  'https://www.medshousing.com/en/hospitals/?noPays=1&noProvince=2'),\n",
       " ('List of Private Hospitals in Ontario, Canada',\n",
       "  'Get a verified list of private hospitals in Ontario, Canada. Grow your medical business with our comprehensive hospital directory. Inquire now!',\n",
       "  'https://www.scottsdirectories.com/hospitals-directory/'),\n",
       " ('LIST OF CANADIAN HOSPITALS',\n",
       "  'Brockville General Hospital (NS). Pub. Gen. Lay. 161. 23. Ontario Hospital (NS). Pub. Ment. Prov. 1,544. II. St. Vincent de Paul Hospital. Pub. Gen. R C. 106.',\n",
       "  'https://publications.gc.ca/collections/collection_2018/statcan/83-201/CS83-201-1959-eng.pdf'),\n",
       " ('Hospitals',\n",
       "  \"List of Ottawa area hospitals. ... Children's Hospital of Eastern Ontario (CHEO). 401 Smyth Road 613-737-7600. Queensway-Carleton Hospital. 3045 Baseline Road\",\n",
       "  'https://www.ottawapublichealth.ca/en/public-health-services/hospitals.aspx')]"
      ]
     },
     "execution_count": 21,
     "metadata": {},
     "output_type": "execute_result"
    }
   ],
   "source": [
    "results"
   ]
  },
  {
   "cell_type": "code",
   "execution_count": null,
   "id": "90a513d5",
   "metadata": {},
   "outputs": [],
   "source": [
    "def rank_links_llm(query, search_results):\n",
    "    client = OpenAI(api_key=OPENAI_API_KEY)\n",
    "\n",
    "    prompt = f\"You are an AI tasked with selecting which search results are most useful for the query: '{query}'. Score each entry from 0-10 for relevance.\\n\\n\"\n",
    "\n",
    "    for idx, (title, snippet, link) in enumerate(search_results):\n",
    "        prompt += f\"[{idx}]\\nTitle: {title}\\nSnippet: {snippet}\\nLink: {link}\\n\\n\"\n",
    "\n",
    "    response = client.chat.completions.create(\n",
    "        model=\"gpt-4.1-nano\",\n",
    "        messages=[\n",
    "            {\"role\": \"user\", \"content\": prompt}\n",
    "        ],\n",
    "        temperature=0.2\n",
    "    )\n",
    "\n",
    "    return response.choices[0].message.content\n"
   ]
  },
  {
   "cell_type": "code",
   "execution_count": 36,
   "id": "04251d6e",
   "metadata": {},
   "outputs": [],
   "source": [
    "results_llm = rank_links_llm(query, results)"
   ]
  },
  {
   "cell_type": "code",
   "execution_count": 38,
   "id": "36f03ea8",
   "metadata": {},
   "outputs": [
    {
     "name": "stdout",
     "output_type": "stream",
     "text": [
      "Here's the relevance score for each search result based on their usefulness for the query \"list of hospitals in Ontario\":\n",
      "\n",
      "[0] Title: General hospital locations  \n",
      "Score: 8  \n",
      "Reasoning: Provides specific locations within Ontario, listing several hospitals and their cities, directly relevant.\n",
      "\n",
      "[1] Title: List of hospitals in Canada  \n",
      "Score: 6  \n",
      "Reasoning: Covers all of Canada, including Ontario, but less specific to Ontario alone.\n",
      "\n",
      "[2] Title: A Comprehensive List of Ontario Hospitals  \n",
      "Score: 9  \n",
      "Reasoning: Explicitly mentions a comprehensive list of Ontario hospitals, highly relevant.\n",
      "\n",
      "[3] Title: Classification of hospitals  \n",
      "Score: 4  \n",
      "Reasoning: Focuses on types of hospitals, not a list, so less directly useful.\n",
      "\n",
      "[4] Title: Ontario Hospital Association OHA Members  \n",
      "Score: 7  \n",
      "Reasoning: Lists member hospitals in Ontario, relevant but may not be comprehensive.\n",
      "\n",
      "[5] Title: LIST OF ONTARIO HOSPITALS & CLINICS  \n",
      "Score: 9  \n",
      "Reasoning: Directly states it is a list of Ontario hospitals and clinics, highly relevant.\n",
      "\n",
      "[6] Title: hospitals in Ontario Canada  \n",
      "Score: 6  \n",
      "Reasoning: Mentions hospitals in Ontario, but the link appears to be a directory with limited context.\n",
      "\n",
      "[7] Title: List of Private Hospitals in Ontario, Canada  \n",
      "Score: 5  \n",
      "Reasoning: Focuses only on private hospitals, which is a subset, so somewhat relevant.\n",
      "\n",
      "[8] Title: LIST OF CANADIAN HOSPITALS  \n",
      "Score: 3  \n",
      "Reasoning: Very broad, covers all of Canada, not specific to Ontario.\n",
      "\n",
      "[9] Title: Hospitals (Ottawa area hospitals)  \n",
      "Score: 7  \n",
      "Reasoning: Focuses on Ottawa hospitals, part of Ontario, relevant for Ottawa area specifically.\n",
      "\n",
      "**Summary:**  \n",
      "The most relevant results are [2] and [5], both explicitly providing comprehensive lists of Ontario hospitals.\n"
     ]
    }
   ],
   "source": [
    "print(results_llm)"
   ]
  },
  {
   "cell_type": "markdown",
   "id": "80745e50",
   "metadata": {},
   "source": [
    "Iteration and Criteria"
   ]
  },
  {
   "cell_type": "code",
   "execution_count": 1,
   "id": "6f72df53",
   "metadata": {},
   "outputs": [
    {
     "ename": "NameError",
     "evalue": "name 'os' is not defined",
     "output_type": "error",
     "traceback": [
      "\u001b[31m---------------------------------------------------------------------------\u001b[39m",
      "\u001b[31mNameError\u001b[39m                                 Traceback (most recent call last)",
      "\u001b[36mCell\u001b[39m\u001b[36m \u001b[39m\u001b[32mIn[1]\u001b[39m\u001b[32m, line 1\u001b[39m\n\u001b[32m----> \u001b[39m\u001b[32m1\u001b[39m \u001b[38;5;28mprint\u001b[39m(\u001b[43mos\u001b[49m.getenv(\u001b[33m\"\u001b[39m\u001b[33mGOOGLE_CX\u001b[39m\u001b[33m\"\u001b[39m))\n",
      "\u001b[31mNameError\u001b[39m: name 'os' is not defined"
     ]
    }
   ],
   "source": [
    "print(os.getenv(\"GOOGLE_CX\"))"
   ]
  },
  {
   "cell_type": "code",
   "execution_count": 19,
   "id": "08c9fda9",
   "metadata": {},
   "outputs": [],
   "source": [
    "def google_search(query):\n",
    "    url = \"https://www.googleapis.com/customsearch/v1\"\n",
    "    params = {\n",
    "        \"key\": GOOGLE_API_KEY,\n",
    "        \"cx\": GOOGLE_CX,\n",
    "        \"q\": query,\n",
    "        \"num\": 5  # Up to 10 per request\n",
    "    }\n",
    "    response = requests.get(url, params=params)\n",
    "    results = response.json()\n",
    "    return [(item['title'], item['snippet'], item['link']) for item in results.get('items', [])]"
   ]
  },
  {
   "cell_type": "code",
   "execution_count": 20,
   "id": "b45829b1",
   "metadata": {},
   "outputs": [
    {
     "name": "stdout",
     "output_type": "stream",
     "text": [
      "[('General hospital locations | ontario.ca', 'Apr 18, 2023 ... Brampton. William Osler Health System ; Huntsville. Muskoka Algonquin Healthcare ; Markham. Oak Valley Health ; Midland. Georgian Bay General\\xa0...', 'http://www.ontario.ca/page/general-hospital-locations'), ('List of hospitals in Canada - Wikipedia', \"Ontario · Children's Hospital of Eastern Ontario (CHEO) · Montfort Hospital · National Defence Medical Centre · The Ottawa Hospital · Civic Hospital · General\\xa0...\", 'https://en.wikipedia.org/wiki/List_of_hospitals_in_Canada'), ('Classification of hospitals | ontario.ca', 'Apr 26, 2023 ... Kingston. Kingston Health Sciences Centre. Kingston General Hospital ; London. London Health Sciences Centre. Victoria Hospital ; Ottawa. The\\xa0...', 'https://www.ontario.ca/page/classification-hospitals'), ('Mount Sinai Hospital | Sinai Health', 'Physician directory. Find a specific physician who provides care at ... Toronto, Ontario M5G 1X5. View on Google Maps. Contact. 416-596-4200. Directions.', 'https://www.sinaihealth.ca/our-hospitals/mount-sinai-hospital'), ('A Comprehensive List of Ontario Hospitals', 'A comprehensive list of the hospitals in Ontario province. Provided by the law offices of Greg Monforton & Partners.', 'https://www.gregmonforton.com/windsor/personal-injury-lawyer/hospitals-in-ontario.html')]\n"
     ]
    }
   ],
   "source": [
    "print(google_search(query))"
   ]
  },
  {
   "cell_type": "code",
   "execution_count": 25,
   "id": "c9a7794f",
   "metadata": {},
   "outputs": [],
   "source": [
    "def plan_research_task(task_description: str) -> str:\n",
    "    client = OpenAI(api_key=OPENAI_API_KEY)\n",
    "    messages = [\n",
    "        {\"role\": \"system\", \"content\": \"You are an expert research assistant. Given a research goal, break it into subtasks that mimic how a human would plan and verify findings step by step.\"},\n",
    "        {\"role\": \"user\", \"content\": f\"The research goal is: {task_description}. What are the logical subtasks we should execute to complete this accurately and efficiently?\"}\n",
    "    ]\n",
    "    response = client.chat.completions.create(\n",
    "        model=\"gpt-4\",\n",
    "        messages=messages,\n",
    "        temperature=0.3\n",
    "    )\n",
    "    return response.choices[0].message.content"
   ]
  },
  {
   "cell_type": "code",
   "execution_count": 26,
   "id": "96967850",
   "metadata": {},
   "outputs": [],
   "source": [
    "def generate_search_queries(task_description: str) -> str:\n",
    "    client = OpenAI(api_key=OPENAI_API_KEY)\n",
    "    messages = [\n",
    "        {\"role\": \"system\", \"content\": \"You are a helpful assistant skilled in crafting efficient search engine queries.\"},\n",
    "        {\"role\": \"user\", \"content\": f\"Based on the task: '{task_description}', provide 5-7 optimized Google-style search queries to gather relevant information. Prioritize variety, credibility, and relevance.\"}\n",
    "    ]\n",
    "    response = client.chat.completions.create(\n",
    "        model=\"gpt-4\",\n",
    "        messages=messages,\n",
    "        temperature=0.3\n",
    "    )\n",
    "    return response.choices[0].message.content"
   ]
  },
  {
   "cell_type": "code",
   "execution_count": 27,
   "id": "bbfe20ae",
   "metadata": {},
   "outputs": [],
   "source": [
    "def rank_links_with_criteria(search_results, query):\n",
    "    client = OpenAI(api_key=OPENAI_API_KEY)\n",
    "    criteria_prompt = \"\"\"\n",
    "You are evaluating search engine results to decide which are worth clicking. Use the following scoring criteria for each result:\n",
    "\n",
    "1. Relevance (0–5): Does the title/snippet clearly match the query?\n",
    "2. Authority (0–5): Is it from a trusted source (e.g., .gov, .edu, hospital website)?\n",
    "3. Specificity (0–5): Is it highly specific or just loosely related?\n",
    "4. Recency (0–5): Is the info from the last 2–3 years?\n",
    "5. Extractability (0–5): Does it look like it contains lists or structured info?\n",
    "\n",
    "Query: '{}'\n",
    "\n",
    "Score the following results:\n",
    "\"\"\".format(query)\n",
    "\n",
    "    for idx, (title, snippet, link) in enumerate(search_results):\n",
    "        criteria_prompt += f\"\\n[{idx}] Title: {title}\\nSnippet: {snippet}\\nLink: {link}\\n\"\n",
    "\n",
    "    messages = [\n",
    "        {\"role\": \"system\", \"content\": \"You are a meticulous researcher scoring search results.\"},\n",
    "        {\"role\": \"user\", \"content\": criteria_prompt}\n",
    "    ]\n",
    "    response = client.chat.completions.create(\n",
    "        model=\"gpt-4\",\n",
    "        messages=messages,\n",
    "        temperature=0.2\n",
    "    )\n",
    "    return response.choices[0].message.content\n"
   ]
  },
  {
   "cell_type": "code",
   "execution_count": 28,
   "id": "69384a7a",
   "metadata": {},
   "outputs": [
    {
     "name": "stdout",
     "output_type": "stream",
     "text": [
      " Planning subtasks...\n",
      "1. Define Research Scope: Clearly define the scope of the research. Are we looking for all types of hospitals, or just specific types like public hospitals, private hospitals, or specialized hospitals?\n",
      "\n",
      "2. Identify Reliable Sources: Identify reliable sources of information such as government health websites, hospital directories, and healthcare databases.\n",
      "\n",
      "3. Preliminary Search: Conduct a preliminary search to get an overview of the information available.\n",
      "\n",
      "4. Detailed Search: Carry out a detailed search from the identified sources. This could involve visiting each source and extracting relevant information.\n",
      "\n",
      "5. Data Extraction: Extract necessary information like the name of the hospital, location, contact details, and type of hospital. \n",
      "\n",
      "6. Data Organization: Organize the extracted data in a systematic manner. This could be in the form of a spreadsheet or a database with columns for each piece of information.\n",
      "\n",
      "7. Verification: Cross-check the information from multiple sources to ensure accuracy. \n",
      "\n",
      "8. Review and Finalize: Review the list for any missing or incorrect information. Make necessary corrections and finalize the list.\n",
      "\n",
      "9. Report Preparation: Prepare a report summarizing the research process, findings, and any challenges encountered during the research.\n",
      "\n",
      "10. Presentation: Present the final list of hospitals in a clear and concise manner, ensuring it is easy to understand and use. \n",
      "\n",
      "11. Update Regularly: Plan for regular updates to the list as new hospitals open or existing ones close. \n",
      "\n",
      "12. Seek Feedback: Seek feedback on the accuracy and completeness of the list from relevant stakeholders, such as healthcare professionals or local residents.\n",
      "\n",
      "Generating search queries...\n",
      "1. \"List of accredited hospitals in Ontario\"\n",
      "2. \"Ontario healthcare facilities directory\"\n",
      "3. \"Top hospitals in Ontario Canada\"\n",
      "4. \"Ontario Ministry of Health hospital list\"\n",
      "5. \"Public and private hospitals in Ontario\"\n",
      "6. \"Healthcare services in Ontario Canada\"\n",
      "7. \"Major hospitals in Ontario by region\"\n",
      "\n",
      "Performing search...\n",
      "\n",
      " Ranking results...\n",
      "1. \"Ontario Hospital Association: Accredited Hospitals\" - www.oha.com\n",
      "   - Relevance: 5 (The title directly matches the query.)\n",
      "   - Authority: 4 (The source is an official hospital association, but not a .gov or .edu site.)\n",
      "   - Specificity: 5 (The title suggests it is specifically about accredited hospitals in Ontario.)\n",
      "   - Recency: 3 (Without knowing the date of the information, it's hard to score this.)\n",
      "   - Extractability: 4 (The title suggests it might contain a list of hospitals, but it's not certain.)\n",
      "   - Total: 21/25\n",
      "\n",
      "2. \"List of hospitals in Canada\" - Wikipedia\n",
      "   - Relevance: 3 (The title is related but not specific to accredited hospitals in Ontario.)\n",
      "   - Authority: 3 (Wikipedia is a widely used source, but its reliability can vary.)\n",
      "   - Specificity: 2 (The title is about hospitals in Canada, not specifically accredited ones in Ontario.)\n",
      "   - Recency: 4 (Wikipedia pages are often updated regularly.)\n",
      "   - Extractability: 5 (Wikipedia usually provides lists and structured info.)\n",
      "   - Total: 17/25\n",
      "\n",
      "3. \"Accreditation Canada: Ontario Hospitals\" - www.accreditation.ca\n",
      "   - Relevance: 5 (The title directly matches the query.)\n",
      "   - Authority: 5 (The source is an official accreditation organization.)\n",
      "   - Specificity: 5 (The title suggests it is specifically about accredited hospitals in Ontario.)\n",
      "   - Recency: 3 (Without knowing the date of the information, it's hard to score this.)\n",
      "   - Extractability: 4 (The title suggests it might contain a list of hospitals, but it's not certain.)\n",
      "   - Total: 22/25\n",
      "\n",
      "4. \"Healthcare in Ontario: An Overview\" - www.ontario.ca\n",
      "   - Relevance: 2 (The title is related but not specific to the query.)\n",
      "   - Authority: 5 (The source is an official government site.)\n",
      "   - Specificity: 1 (The title is about healthcare in Ontario in general, not specifically accredited hospitals.)\n",
      "   - Recency: 3 (Without knowing the date of the information, it's hard to score this.)\n",
      "   - Extractability: 2 (The title does not suggest it contains a list or structured info about accredited hospitals.)\n",
      "   - Total: 13/25\n",
      "\n",
      "5. \"Ontario Hospitals: Ratings and Rankings\" - www.ratemds.com\n",
      "   - Relevance: 2 (The title is related but not specific to the query.)\n",
      "   - Authority: 2 (The source is a rating site, not an official healthcare or government site.)\n",
      "   - Specificity: 1 (The title is about hospital ratings in Ontario, not specifically accredited ones.)\n",
      "   - Recency: 3 (Without knowing the date of the information, it's hard to score this.)\n",
      "   - Extractability: 4 (The title suggests it might contain a list of hospitals, but not certain if they are accredited.)\n",
      "   - Total: 12/25\n"
     ]
    }
   ],
   "source": [
    "task = \"Find a list of hospitals in Ontario\"\n",
    "\n",
    "print(\" Planning subtasks...\")\n",
    "subtasks = plan_research_task(task)\n",
    "print(subtasks)\n",
    "\n",
    "print(\"\\nGenerating search queries...\")\n",
    "queries = generate_search_queries(task)\n",
    "print(queries)\n",
    "\n",
    "# Use just the first query for demo purposes\n",
    "print(\"\\nPerforming search...\")\n",
    "top_query = queries.strip().split(\"\\n\")[0]\n",
    "results = google_search(top_query)\n",
    "\n",
    "print(\"\\n Ranking results...\")\n",
    "scores = rank_links_with_criteria(results, top_query)\n",
    "print(scores)"
   ]
  }
 ],
 "metadata": {
  "kernelspec": {
   "display_name": "llm_automated_research",
   "language": "python",
   "name": "python3"
  },
  "language_info": {
   "codemirror_mode": {
    "name": "ipython",
    "version": 3
   },
   "file_extension": ".py",
   "mimetype": "text/x-python",
   "name": "python",
   "nbconvert_exporter": "python",
   "pygments_lexer": "ipython3",
   "version": "3.12.7"
  }
 },
 "nbformat": 4,
 "nbformat_minor": 5
}
